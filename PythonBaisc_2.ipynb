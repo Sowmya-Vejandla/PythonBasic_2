{
 "cells": [
  {
   "cell_type": "code",
   "execution_count": 1,
   "id": "0435fd2d",
   "metadata": {},
   "outputs": [
    {
     "name": "stdout",
     "output_type": "stream",
     "text": [
      "First variable is 10 & second variable is 5.\n",
      "Addition: 10 + 5 = 15\n",
      "Subtraction: 10 - 5 = 5\n",
      "Multiplication: 10 * 5 = 50\n",
      "Division: 10/5=2.0\n"
     ]
    }
   ],
   "source": [
    "#1.\n",
    "\n",
    "first_variable = 10\n",
    "second_variable = 5\n",
    "\n",
    "addition=first_variable+second_variable\n",
    "subtraction=first_variable-second_variable\n",
    "multiplication=first_variable*second_variable\n",
    "division=first_variable/second_variable\n",
    "\n",
    "print(f\"First variable is {first_variable} & second variable is {second_variable}.\")\n",
    "print(f\"Addition: {first_variable} + {second_variable} = {addition}\")\n",
    "print(f\"Subtraction: {first_variable} - {second_variable} = {subtraction}\")\n",
    "print(f\"Multiplication: {first_variable} * {second_variable} = {multiplication}\")\n",
    "print(f\"Division: {first_variable}/{second_variable}={division}\")"
   ]
  },
  {
   "cell_type": "raw",
   "id": "a47e62bb",
   "metadata": {},
   "source": [
    "2.\n",
    "(i) '/' and '//' Operators:\n",
    "\n",
    "The '/' operator is the division operator in Python that performs normal division and returns a floating point result, even if the operands are integers.\n",
    "The '//' operator is the floor division operator. It divides the left operand by the right operand and returns the largest integer less than or equal to the result. The result is always an integer, and any fractional part is neglected.\n",
    "\n",
    "(ii) '' and '^' Operators:**\n",
    "\n",
    "The '**' operator is the exponentiation operator. It raises the left operand to the power of the right operand.\n",
    "The '^' operator, when used between two numbers, is the bitwise XOR (exclusive or) operator. It performs bitwise XOR on corresponding bits of the two numbers."
   ]
  },
  {
   "cell_type": "raw",
   "id": "c87147ea",
   "metadata": {},
   "source": [
    "3. \n",
    "Logical operators used to check whether an expression is True or False.\n",
    "\n",
    "(i)AND - returns True if both operands are true or else return False \n",
    "(ii)OR - returns True if atleast one operand is true\n",
    "(iii)NOT - returns True if operand is False and False if operand is True"
   ]
  },
  {
   "cell_type": "raw",
   "id": "b79d57b8",
   "metadata": {},
   "source": [
    "4. \n",
    "In Python, the right shift and left shift operators are bitwise shift operators used to shift the bits of an integer to the right or left respectively.\n",
    "\n",
    "Right Shift Operator (>>):\n",
    "The right shift operator shifts the bits of a number to the right by a specified number of positions.\n",
    "The rightmost bits are discarded, and the vacant positions on the left are filled with the sign bit (0 for non-negative numbers, and 1 for negative numbers).\n",
    "\n",
    "Left Shift Operator (<<):\n",
    "The left shift operator shifts the bits of a number to the left by a specified number of positions.\n",
    "The leftmost bits are discarded, and the vacant positions on the right are filled with the zeroes"
   ]
  },
  {
   "cell_type": "code",
   "execution_count": 3,
   "id": "399fa8c0",
   "metadata": {},
   "outputs": [
    {
     "name": "stdout",
     "output_type": "stream",
     "text": [
      "8\n",
      "128\n"
     ]
    }
   ],
   "source": [
    "#Example for Right shift operator\n",
    "\n",
    "x=32\n",
    "result=x>>2  # Right shift x by 2 positions\n",
    "print(result)\n",
    "\n",
    "#Example for Left shift operator\n",
    "\n",
    "x=32\n",
    "result=x<<2 #Left shift x by 2 positions\n",
    "print(result)"
   ]
  },
  {
   "cell_type": "code",
   "execution_count": 4,
   "id": "4659a089",
   "metadata": {},
   "outputs": [
    {
     "name": "stdout",
     "output_type": "stream",
     "text": [
      "10 is present in the list\n"
     ]
    }
   ],
   "source": [
    "#5.\n",
    "l=[0,2,4,6,8,10,12,14,16,18,20,22,24,26,28,30]\n",
    "if 10 in l:\n",
    "    print(\"10 is present in the list\")\n",
    "else:\n",
    "    print(\"10 is not present in the list\")"
   ]
  }
 ],
 "metadata": {
  "kernelspec": {
   "display_name": "Python 3 (ipykernel)",
   "language": "python",
   "name": "python3"
  },
  "language_info": {
   "codemirror_mode": {
    "name": "ipython",
    "version": 3
   },
   "file_extension": ".py",
   "mimetype": "text/x-python",
   "name": "python",
   "nbconvert_exporter": "python",
   "pygments_lexer": "ipython3",
   "version": "3.11.3"
  }
 },
 "nbformat": 4,
 "nbformat_minor": 5
}
